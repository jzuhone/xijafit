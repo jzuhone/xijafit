{
 "cells": [
  {
   "cell_type": "code",
   "execution_count": null,
   "metadata": {
    "collapsed": false
   },
   "outputs": [],
   "source": [
    "from Ska.engarchive import fetch_eng as fetch\n",
    "from fit import *"
   ]
  },
  {
   "cell_type": "code",
   "execution_count": null,
   "metadata": {
    "collapsed": true
   },
   "outputs": [],
   "source": [
    "from matplotlib import rcParams\n",
    "import matplotlib.pyplot as plt\n",
    "from plot_cxctime_custom import *\n",
    "\n",
    "plt.style.use('dark_background')\n",
    "rcParams['axes.facecolor'] = [.1,.15,.2]\n",
    "\n",
    "%matplotlib notebook\n",
    "\n",
    "def plothelper(model, fig, ax):\n",
    "    model.calc()\n",
    "    data = model.get_comp('pftank2t')\n",
    "    _ = plot_cxctime(data.times, data.mvals * 9 / 5. + 32., color='r', fig=fig, ax=ax)\n",
    "    _ = plot_cxctime(data.times, data.dvals * 9 / 5. + 32., color='b', fig=fig, ax=ax)\n",
    "    _[-1].grid(True)"
   ]
  },
  {
   "cell_type": "code",
   "execution_count": null,
   "metadata": {
    "collapsed": false
   },
   "outputs": [],
   "source": [
    "fueltank = XijaFit('pftank2t_model_spec_roll.json', set_data_exprs=(u'pf0tank2t=22.0',), quiet=False, name='pftank2t')\n",
    "fueltank.update_fit_times(start='2015:182', days=365)\n",
    "fueltank.freeze_all()\n",
    "# fueltank.zero_solarheat_dp()\n",
    "p = 'solarheat__[A-Za-z0-9]+__dP_\\d+'\n",
    "for par in fueltank.model.pars:\n",
    "    if re.match(p, par.full_name):\n",
    "        par['val'] = 0.1\n",
    "fueltank.zero_solarheat_p()\n",
    "fueltank.zero_solarheat_roll()\n",
    "fueltank.set_param(u'solarheat__pf0tank2t__ampl', 0)\n",
    "fueltank.set_param(u'heatsink__pf0tank2t__tau', 100.0)\n",
    "fueltank.thaw_param(u'heatsink__pf0tank2t__T')\n",
    "fueltank.save_snapshot()\n",
    "fueltank.fit(method='simplex')"
   ]
  },
  {
   "cell_type": "code",
   "execution_count": null,
   "metadata": {
    "collapsed": false
   },
   "outputs": [],
   "source": [
    "fueltank = XijaFit('pftank2t_model_spec_roll.json', set_data_exprs=(u'pf0tank2t=22.0',), quiet=False, name='pftank2t')\n",
    "fueltank.update_fit_times(start='2015:182', days=365)\n",
    "fueltank.freeze_all()\n",
    "\n",
    "# fueltank.zero_solarheat_dp()\n",
    "p = 'solarheat__[A-Za-z0-9]+__dP_\\d+'\n",
    "for par in fueltank.model.pars:\n",
    "    if re.match(p, par.full_name):\n",
    "        par['val'] = 0.1\n",
    "\n",
    "fueltank.zero_solarheat_p()\n",
    "fueltank.zero_solarheat_roll()\n",
    "\n",
    "fueltank.set_param(u'solarheat__pf0tank2t__ampl', 0)\n",
    "fueltank.set_param(u'heatsink__pf0tank2t__tau', 100.0)\n",
    "fueltank.thaw_param(u'heatsink__pf0tank2t__T')\n",
    "\n",
    "fueltank.save_snapshot()\n",
    "fueltank.fit(method='moncar')\n",
    "fueltank.thaw_solarheat_p()\n",
    "fueltank.thaw_solarheat_roll()\n",
    "fueltank.thaw_param(u'solarheat__pf0tank2t__ampl')\n",
    "fueltank.fit(method='moncar')\n",
    "\n",
    "fueltank.freeze_all()\n",
    "fueltank.thaw_param(u'heatsink__pf0tank2t__T')\n",
    "fueltank.thaw_param(u'heatsink__pf0tank2t__tau')\n",
    "fueltank.center_range(u'heatsink__pf0tank2t__T')\n",
    "fueltank.center_range(u'heatsink__pf0tank2t__tau')\n",
    "fueltank.fit(method='moncar')\n",
    "\n",
    "fueltank.freeze_all()\n",
    "fueltank.thaw_param(u'coupling__pftank2t__pf0tank2t__tau')\n",
    "fueltank.center_range(u'coupling__pftank2t__pf0tank2t__tau')\n",
    "fueltank.fit(method='moncar')\n",
    "\n",
    "fueltank.thaw_solarheat_p()\n",
    "fueltank.thaw_solarheat_roll()\n",
    "fueltank.thaw_param(u'solarheat__pf0tank2t__ampl')\n",
    "fueltank.fit(method='moncar')\n",
    "\n",
    "# fueltank.update_fit_times(stop='2016:280', start='2014:280')\n",
    "# fueltank.freeze_all()\n",
    "# fueltank.thaw_solarheat_dP()\n",
    "# fueltank.thaw_param(u'solarheat__pf0tank2t__ampl')\n",
    "# fueltank.fit(method='moncar')\n",
    "\n",
    "fueltank.write_spec_file()\n",
    "fueltank.write_snapshots_file()\n",
    "\n"
   ]
  },
  {
   "cell_type": "code",
   "execution_count": null,
   "metadata": {
    "collapsed": false
   },
   "outputs": [],
   "source": [
    "# ax = plt.gca()\n",
    "fig = plt.figure(figsize=(15, 8))\n",
    "ax = fig.add_axes(rect=[0.05, 0.1, 0.8, 0.85])\n",
    "plothelper(fueltank.model, fig, ax)"
   ]
  },
  {
   "cell_type": "code",
   "execution_count": null,
   "metadata": {
    "collapsed": false
   },
   "outputs": [],
   "source": [
    "zip(fueltank.model.parnames, fueltank.model.parvals)"
   ]
  },
  {
   "cell_type": "code",
   "execution_count": null,
   "metadata": {
    "collapsed": false
   },
   "outputs": [],
   "source": [
    "fueltank.snapshots"
   ]
  },
  {
   "cell_type": "code",
   "execution_count": null,
   "metadata": {
    "collapsed": true
   },
   "outputs": [],
   "source": [
    "create_param_gui(fueltank)"
   ]
  },
  {
   "cell_type": "code",
   "execution_count": null,
   "metadata": {
    "collapsed": false
   },
   "outputs": [],
   "source": [
    "# ax = plt.gca()\n",
    "fueltank.update_fit_times(stop='2016:280', start='2014:280')\n",
    "fig = plt.figure(figsize=(15, 8))\n",
    "ax = fig.add_axes(rect=[0.05, 0.1, 0.8, 0.85])\n",
    "plothelper(fueltank.model, fig, ax)"
   ]
  },
  {
   "cell_type": "code",
   "execution_count": null,
   "metadata": {
    "collapsed": true
   },
   "outputs": [],
   "source": []
  }
 ],
 "metadata": {
  "anaconda-cloud": {},
  "kernelspec": {
   "display_name": "Python [skatest]",
   "language": "python",
   "name": "Python [skatest]"
  },
  "language_info": {
   "codemirror_mode": {
    "name": "ipython",
    "version": 2
   },
   "file_extension": ".py",
   "mimetype": "text/x-python",
   "name": "python",
   "nbconvert_exporter": "python",
   "pygments_lexer": "ipython2",
   "version": "2.7.12"
  }
 },
 "nbformat": 4,
 "nbformat_minor": 0
}
